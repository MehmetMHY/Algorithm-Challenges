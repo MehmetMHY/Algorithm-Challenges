{
 "cells": [
  {
   "cell_type": "markdown",
   "metadata": {},
   "source": [
    "# Analyzing Dot-And-Boxes Complexity\n",
    "- By: Mehmet Yilmaz\n",
    "- Date: December 2020"
   ]
  },
  {
   "cell_type": "code",
   "execution_count": 1,
   "metadata": {},
   "outputs": [
    {
     "name": "stdout",
     "output_type": "stream",
     "text": [
      "1x1 Game:\n",
      "DoxBox Dimension: 1x1\n",
      "Total Move Count: 4\n",
      "Total Node Count: 64 \n",
      "\n",
      "1x2 Game:\n",
      "DoxBox Dimension: 1x2\n",
      "Total Move Count: 7\n",
      "Total Node Count: 13699 \n",
      "\n",
      "2x2 Game:\n",
      "DoxBox Dimension: 2x2\n",
      "Total Move Count: 12\n",
      "Total Node Count: 1302061344 \n",
      "\n",
      "2x3 Game:\n",
      "DoxBox Dimension: 2x3\n",
      "Total Move Count: 17\n",
      "Total Node Count: 966858672404689 \n",
      "\n",
      "3x3 Game:\n",
      "DoxBox Dimension: 3x3\n",
      "Total Move Count: 24\n",
      "Total Node Count: 1686553615927922354187744 \n",
      "\n",
      "3x4 Game:\n",
      "DoxBox Dimension: 3x4\n",
      "Total Move Count: 31\n",
      "Total Node Count: 22351992892002478779546727925504731 \n",
      "\n",
      "4x4 Game:\n",
      "DoxBox Dimension: 4x4\n",
      "Total Move Count: 40\n",
      "Total Node Count: 2217887688014775253706633418653155893774469751200 \n",
      "\n",
      "4x5 Game:\n",
      "DoxBox Dimension: 4x5\n",
      "Total Move Count: 49\n",
      "Total Node Count: 1653481537585545171449931620186035466059689728986775126016505969 \n",
      "\n",
      "5x5 Game:\n",
      "DoxBox Dimension: 5x5\n",
      "Total Move Count: 60\n",
      "Total Node Count: 22618788063406817580242966787697794235710378252107714588124160945269486263817381600 \n",
      "\n"
     ]
    }
   ],
   "source": [
    "# calculate the total number of possible moves for a NxM dot&box game\n",
    "def move_count(x, y):\n",
    "    return 2*x*y + x + y\n",
    "\n",
    "\n",
    "# calculate the total number of possible game states for a NxM dot&box game\n",
    "def total_nodes(n):\n",
    "    if(n - 1 == 0):\n",
    "        return n\n",
    "    else:\n",
    "        return n * total_nodes(n-1) + n\n",
    "\n",
    "\n",
    "# print results from move_count() and total_nodes()\n",
    "def numbers(title, x, y, initial_move_count):\n",
    "    print(title)\n",
    "    print(\"DoxBox Dimension:\", str(x)+\"x\"+str(y))\n",
    "    print(\"Total Move Count:\", move_count(x, y))\n",
    "    print(\"Total Node Count:\", total_nodes(move_count(x, y)-initial_move_count)+initial_move_count, \"\\n\")\n",
    "\n",
    "\n",
    "# print complexity values for 9 types of dot&boxes games\n",
    "beginning_number_of_moves = 0\n",
    "numbers(\"1x1 Game:\", 1, 1, beginning_number_of_moves)\n",
    "numbers(\"1x2 Game:\", 1, 2, beginning_number_of_moves)\n",
    "numbers(\"2x2 Game:\", 2, 2, beginning_number_of_moves)\n",
    "numbers(\"2x3 Game:\", 2, 3, beginning_number_of_moves)\n",
    "numbers(\"3x3 Game:\", 3, 3, beginning_number_of_moves)\n",
    "numbers(\"3x4 Game:\", 3, 4, beginning_number_of_moves)\n",
    "numbers(\"4x4 Game:\", 4, 4, beginning_number_of_moves)\n",
    "numbers(\"4x5 Game:\", 4, 5, beginning_number_of_moves)\n",
    "numbers(\"5x5 Game:\", 5, 5, beginning_number_of_moves)"
   ]
  },
  {
   "cell_type": "code",
   "execution_count": null,
   "metadata": {},
   "outputs": [],
   "source": []
  }
 ],
 "metadata": {
  "kernelspec": {
   "display_name": "Python 3",
   "language": "python",
   "name": "python3"
  },
  "language_info": {
   "codemirror_mode": {
    "name": "ipython",
    "version": 3
   },
   "file_extension": ".py",
   "mimetype": "text/x-python",
   "name": "python",
   "nbconvert_exporter": "python",
   "pygments_lexer": "ipython3",
   "version": "3.8.6"
  }
 },
 "nbformat": 4,
 "nbformat_minor": 4
}
