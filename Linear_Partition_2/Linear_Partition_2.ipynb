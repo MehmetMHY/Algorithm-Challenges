{
 "cells": [
  {
   "cell_type": "markdown",
   "metadata": {},
   "source": [
    "# Linear Partition (LP2) Problem\n",
    "\n",
    "Given a sequence S of n positive integers (s1, s2, …, sn) and an integer k, partition S into k ranges so as to maximizes the minimum sum over all ranges.\n",
    "\n",
    "Example:\n",
    "(1 2 4), k = 2\n",
    "\n",
    "Solution:\n",
    "(1+2, 4) = 3\n",
    "(1, 2+4) = 1\n",
    "The best place to place the divider(s) is between 2 and 4 with k = 2 because it best maximizes the minimum sum to 3 rather then just 1."
   ]
  },
  {
   "cell_type": "markdown",
   "metadata": {},
   "source": [
    "### Recursive Implementation for LP2"
   ]
  },
  {
   "cell_type": "code",
   "execution_count": 12,
   "metadata": {},
   "outputs": [
    {
     "name": "stdout",
     "output_type": "stream",
     "text": [
      "42\n"
     ]
    }
   ],
   "source": [
    "# LP2 Recursive Implementation:\n",
    "def lp2R(s, n, k):\n",
    "    if(n == 1):\n",
    "        return s[0]\n",
    "    elif(k == 1):\n",
    "        return sum(s)\n",
    "    else:\n",
    "        final = []\n",
    "        for i in range(1, n):\n",
    "            leftside = lp2R(s[0:i], len(s[0:i]), k-1)\n",
    "            rightside = sum(s[i+1:n])\n",
    "            final.append(max(leftside, rightside))\n",
    "        return min(final)\n",
    "\n",
    "# Testing lp2R()\n",
    "s = [10, 6, 7, 3, 8, 5, 7, 9, 11, 7, 15, 10, 12, 6, 19, 7, 3, 12, 14, 6]\n",
    "k = 4\n",
    "n = len(s)\n",
    "print(lp2R(s, len(s), k))"
   ]
  },
  {
   "cell_type": "markdown",
   "metadata": {},
   "source": [
    "### Dynamic Programming Implementation for LP2\n",
    "- This is a modifited verison of the algorithm described in Steven S. Skiena book: \"The Algorithm Design Manual\". This algorithm can be found at Chapter 8 (Dynamic Programming) in section 8.5, aka. page 294."
   ]
  },
  {
   "cell_type": "code",
   "execution_count": 13,
   "metadata": {},
   "outputs": [
    {
     "name": "stdout",
     "output_type": "stream",
     "text": [
      "10 6 7 3 8 5 7 ┇ 9 11 7 15 ┇ 10 12 6 19 ┇ 7 3 12 14 6 \n",
      "42\n"
     ]
    }
   ],
   "source": [
    "# Dynamic Programming implementation for LP2\n",
    "# - This is a modifited \n",
    "\n",
    "import numpy as np\n",
    "\n",
    "sequence = \"\" # stores divided sequence\n",
    "fairness = 0 # stores fairness index\n",
    "temp = [] # temp value for traceback\n",
    "\n",
    "# LP2 Dynamic Programming Implementation:\n",
    "def partition(s, n, k):\n",
    "    global fairness, tooMuch\n",
    "\n",
    "    m = np.zeros(shape=(n,k)) # fairness table\n",
    "    d = np.zeros(shape=(n,k)) # divider table (traceback)\n",
    "    p = [0]*n # sums prefix\n",
    "    p[0] = 0 # initialize prefix sums\n",
    "    cost = 0 # split cost\n",
    "\n",
    "    for i in range(0, n): # build prefix sums\n",
    "        p[i] = p[i-1] + s[i]\n",
    "    for i in range(0, n): # add basecase 1 for fairness table\n",
    "        m[i][0] = p[i]\n",
    "    for i in range(0, k): # add basecase 2 for fairness table\n",
    "        m[0][i] = s[0]\n",
    "\n",
    "    # create fariness and divider table based on recurrence\n",
    "    for i in range(1, n):\n",
    "        for j in range(1, k):\n",
    "            m[i][j] = 0\n",
    "            for x in range(0, i):\n",
    "                cost = min(m[x][j-1], p[i]-p[x])\n",
    "                if(m[i][j] < cost):\n",
    "                    m[i][j] = cost\n",
    "                    d[i][j] = x+1\n",
    "    \n",
    "    # Add \"white space\" to tables to avoid out of range errors\n",
    "    m = np.insert(m, 1, 0, axis=1) ; m = np.insert(m, 1, 0, axis=0)\n",
    "    d = np.insert(d, 1, 0, axis=1) ; d = np.insert(d, 1, 0, axis=0)\n",
    "    \n",
    "    fairness = int(m[n][k]) # store fairness value\n",
    "    \n",
    "    # call traceback function for dividers location(s)\n",
    "    reconstruct_partition(s, d.astype(int), n, k)\n",
    "\n",
    "# LP2 Traceback\n",
    "def reconstruct_partition(s, d, n, k):\n",
    "    if(k == 1):\n",
    "        print_books(s, 0, n)\n",
    "    else:\n",
    "        reconstruct_partition(s, d, d[n][k], k-1)\n",
    "        print_books(s, d[n][k], n)\n",
    "\n",
    "# save group values\n",
    "def print_books(s, start, end):\n",
    "    global temp\n",
    "    ans = []\n",
    "    for i in range(start, end):\n",
    "        ans.append(s[i])\n",
    "    temp.append(ans)\n",
    "\n",
    "# main function\n",
    "def lp2(s, k):\n",
    "    global fairness, sequence, temp, tooMuch\n",
    "    partition(s, len(s), k) # call partition() function\n",
    "    \n",
    "    # print out sequence and fairness value\n",
    "    for i in range(len(temp)):\n",
    "        if(True):\n",
    "            for j in range(len(temp[i])):\n",
    "                sequence = sequence + str(temp[i][j]) + \" \"\n",
    "            if(i != len(temp)-1):\n",
    "                d = \"┇ \"\n",
    "                sequence = sequence + d\n",
    "    print(sequence)\n",
    "    print(fairness)\n",
    "\n",
    "# Testing lp2()\n",
    "s = [10, 6, 7, 3, 8, 5, 7, 9, 11, 7, 15, 10, 12, 6, 19, 7, 3, 12, 14, 6]\n",
    "k = 4\n",
    "lp2(s, k)"
   ]
  },
  {
   "cell_type": "code",
   "execution_count": null,
   "metadata": {},
   "outputs": [],
   "source": []
  }
 ],
 "metadata": {
  "kernelspec": {
   "display_name": "Python 3",
   "language": "python",
   "name": "python3"
  },
  "language_info": {
   "codemirror_mode": {
    "name": "ipython",
    "version": 3
   },
   "file_extension": ".py",
   "mimetype": "text/x-python",
   "name": "python",
   "nbconvert_exporter": "python",
   "pygments_lexer": "ipython3",
   "version": "3.8.6"
  }
 },
 "nbformat": 4,
 "nbformat_minor": 4
}
