{
 "cells": [
  {
   "cell_type": "markdown",
   "metadata": {},
   "source": [
    "# HackerRank Coding Challenges\n",
    "- By: Mehmet Yilmaz\n",
    "- Date: 8-30-2020\n",
    "\n",
    "### About:\n",
    "- The following are some code I wrote for certain coding challenges for HackerRank"
   ]
  },
  {
   "cell_type": "code",
   "execution_count": 1,
   "metadata": {},
   "outputs": [],
   "source": [
    "##########[ Interview Preparation Kit - Warm-up Challenges ]##########"
   ]
  },
  {
   "cell_type": "code",
   "execution_count": 2,
   "metadata": {},
   "outputs": [
    {
     "name": "stdout",
     "output_type": "stream",
     "text": [
      "3\n"
     ]
    }
   ],
   "source": [
    "# Jumping on the Clouds\n",
    "def jumpingOnClouds(c):\n",
    "    ans = []\n",
    "    p = 0\n",
    "    while(p + 1 < len(c) and p + 2 < len(c)):\n",
    "        if(p+2 < len(c) and c[p+2] == 0):\n",
    "            ans.append(p+2)\n",
    "            p = p + 2\n",
    "        elif(p+1 < len(c) and c[p+1] == 0):\n",
    "            ans.append(p+1)\n",
    "            p = p + 1\n",
    "    if(p != len(c)-1):\n",
    "        ans.append(c[len(c)-1])\n",
    "    return len(ans)\n",
    "        \n",
    "\n",
    "c = [0, 0, 0, 1, 0, 0]\n",
    "print(jumpingOnClouds(c))"
   ]
  },
  {
   "cell_type": "code",
   "execution_count": 3,
   "metadata": {},
   "outputs": [],
   "source": [
    "# Sock Merchant\n",
    "def sockMerchant(n, ar):\n",
    "    counter = 0\n",
    "    ar.sort()\n",
    "    i = 0\n",
    "    while i < len(ar)-1:\n",
    "        if(ar[i] == ar[i+1]):\n",
    "            counter = counter + 1\n",
    "            i += 2\n",
    "        else:\n",
    "            i += 1\n",
    "    return counter"
   ]
  },
  {
   "cell_type": "code",
   "execution_count": 4,
   "metadata": {},
   "outputs": [],
   "source": [
    "# Counting Valleys\n",
    "def countingValleys(n, s):\n",
    "    sum = 0\n",
    "    c = 0\n",
    "    prev = 0\n",
    "    for i in range(len(s)):\n",
    "        if(s[i] == \"U\"):\n",
    "            prev = sum\n",
    "            sum = sum + 1\n",
    "        else:\n",
    "            prev = sum\n",
    "            sum = sum - 1\n",
    "        if(sum == 0 and prev < 0):\n",
    "            c = c + 1\n",
    "    return c"
   ]
  },
  {
   "cell_type": "code",
   "execution_count": 5,
   "metadata": {},
   "outputs": [
    {
     "name": "stdout",
     "output_type": "stream",
     "text": [
      "7\n"
     ]
    }
   ],
   "source": [
    "# Repeated String\n",
    "import math\n",
    "\n",
    "def repeatedString(s, n):\n",
    "    x = int(s.count(\"a\"))\n",
    "    y = int(math.floor(n/len(s)))\n",
    "    z = n - (y*len(s))\n",
    "    c = s[:z].count(\"a\")\n",
    "    return (y*x) + c\n",
    "    \n",
    "s = \"aba\"\n",
    "n = 10\n",
    "print(repeatedString(s, n))\n"
   ]
  },
  {
   "cell_type": "code",
   "execution_count": 6,
   "metadata": {},
   "outputs": [],
   "source": [
    "##########[ Interview Preparation Kit - Arrays ]##########"
   ]
  },
  {
   "cell_type": "code",
   "execution_count": 7,
   "metadata": {},
   "outputs": [
    {
     "name": "stdout",
     "output_type": "stream",
     "text": [
      "7\n"
     ]
    }
   ],
   "source": [
    "# Arrays: 2D Array - DS\n",
    "def hourglassSum(arr):\n",
    "    s = []\n",
    "    for i in range(len(arr)):\n",
    "        for j in range(len(arr[i])):\n",
    "            p = arr[i][j] ; c = 0\n",
    "            if(j + 1 < len(arr[i])):\n",
    "                p = p + arr[i][j+1] ; c = c + 1\n",
    "            if(j + 2 < len(arr[i])):\n",
    "                p = p + arr[i][j+2] ; c = c + 1\n",
    "            if(i + 1 < len(arr) and j + 1 < len(arr[i])):\n",
    "                p = p + arr[i+1][j+1] ; c = c + 1\n",
    "            if(i + 2 < len(arr)):\n",
    "                p = p + arr[i+2][j] ; c = c + 1\n",
    "            if(i + 2 < len(arr) and j + 1 < len(arr[i])):\n",
    "                p = p + arr[i+2][j+1] ; c = c + 1\n",
    "            if(i + 2 < len(arr) and j + 2 < len(arr[i])):\n",
    "                p = p + arr[i+2][j+2] ; c = c + 1\n",
    "            if(c == 6): s.append(p) # main c if statement!\n",
    "    return max(s)\n",
    "\n",
    "arr = [[1,1,1,0,0,0], [0,1,0,0,0,0], [1,1,1,0,0,0], [0,0,0,0,0,0], [0,0,0,0,0,0], [0,0,0,0,0,0]]\n",
    "print(hourglassSum(arr))\n"
   ]
  },
  {
   "cell_type": "code",
   "execution_count": 8,
   "metadata": {},
   "outputs": [
    {
     "name": "stdout",
     "output_type": "stream",
     "text": [
      "[5, 1, 2, 3, 4]\n"
     ]
    }
   ],
   "source": [
    "# Array: Left Rotation\n",
    "def rotLeft(a, d):\n",
    "    for i in range(d):\n",
    "        x = a[0]\n",
    "        a.pop(0)\n",
    "        a.append(x)\n",
    "    return a\n",
    "\n",
    "a = [1, 2, 3, 4, 5]\n",
    "print(rotLeft(a, 4))"
   ]
  },
  {
   "cell_type": "code",
   "execution_count": 9,
   "metadata": {},
   "outputs": [
    {
     "name": "stdout",
     "output_type": "stream",
     "text": [
      "9\n"
     ]
    }
   ],
   "source": [
    "# Array: Minimum Swaps 2\n",
    "def swap(list, x, y):\n",
    "    temp = list[x]\n",
    "    list[x] = list[y]\n",
    "    list[y] = temp\n",
    "    return list\n",
    "\n",
    "def setupList(list):\n",
    "    l = [-1] * (len(list)+1)\n",
    "    for i in range(len(list)):\n",
    "        l[list[i]] = i\n",
    "    #l.pop(0)\n",
    "    return l\n",
    "\n",
    "def minimumSwaps(arr):\n",
    "    c = 0\n",
    "    l = list(setupList(arr))\n",
    "    for i in range(len(arr)):\n",
    "        if(arr[i] != i+1):\n",
    "            index = arr.index(i+1)\n",
    "            arr = list(swap(arr, i, index))\n",
    "            c = c + 1\n",
    "    return c\n",
    "\n",
    "x = [3, 7, 6, 9, 1, 8, 10, 4, 2, 5] # Expected: 9\n",
    "print(minimumSwaps(x))"
   ]
  },
  {
   "cell_type": "code",
   "execution_count": 10,
   "metadata": {},
   "outputs": [
    {
     "name": "stdout",
     "output_type": "stream",
     "text": [
      "9\n"
     ]
    }
   ],
   "source": [
    "# Array: Minimum Swaps 2\n",
    "def swap(list, x, y):\n",
    "    temp = list[x]\n",
    "    list[x] = list[y]\n",
    "    list[y] = temp\n",
    "    return list\n",
    "\n",
    "def setupList(list):\n",
    "    l = [-1] * (len(list)+1)\n",
    "    for i in range(len(list)):\n",
    "        l[list[i]] = i\n",
    "    l.pop(0)\n",
    "    return l\n",
    "\n",
    "def minimumSwaps(arr):\n",
    "    c = 0\n",
    "    l = list(setupList(arr))\n",
    "    for i in range(len(arr)):\n",
    "        if(arr[i] != i+1):\n",
    "            index = l[i]\n",
    "            l[i] = i\n",
    "            l[arr[i]-1] = index\n",
    "            arr = list(swap(arr, i, index))\n",
    "            c = c + 1\n",
    "    return c\n",
    "\n",
    "\n",
    "x = [3, 7, 6, 9, 1, 8, 10, 4, 2, 5] # Expected: 9\n",
    "print(minimumSwaps(x))\n"
   ]
  },
  {
   "cell_type": "code",
   "execution_count": 11,
   "metadata": {},
   "outputs": [],
   "source": [
    "##########[ Interview Preparation Kit - Greedy Algorithms ]##########"
   ]
  },
  {
   "cell_type": "code",
   "execution_count": 12,
   "metadata": {},
   "outputs": [
    {
     "name": "stdout",
     "output_type": "stream",
     "text": [
      "1\n"
     ]
    }
   ],
   "source": [
    "# Minimum Absolute Difference in an Array\n",
    "def minimumAbsoluteDifference(arr):\n",
    "    ans = 9999999999999\n",
    "    arr.sort()\n",
    "    for i in range(len(arr)-1):\n",
    "        if(i+1 < len(arr)):\n",
    "            diff = abs(arr[i]-arr[i+1])\n",
    "            if(diff < ans):\n",
    "                ans = diff\n",
    "    return ans\n",
    "\n",
    "arr=[-59, -36, -13, 1, -53, -92, -2, -96, -54, 75]\n",
    "print(minimumAbsoluteDifference(arr))\n"
   ]
  },
  {
   "cell_type": "code",
   "execution_count": 13,
   "metadata": {},
   "outputs": [],
   "source": [
    "##########[ Interview Preparation Kit - Recursion & Backtracking ]##########"
   ]
  },
  {
   "cell_type": "code",
   "execution_count": 14,
   "metadata": {},
   "outputs": [
    {
     "name": "stdout",
     "output_type": "stream",
     "text": [
      "8\n"
     ]
    }
   ],
   "source": [
    "# Recursion: Fibonacci Numbers\n",
    "def fibonacci(n):\n",
    "    if(n == 0 or n == 1):\n",
    "        return n\n",
    "    else:\n",
    "        return fibonacci(n-1) + fibonacci(n-2)\n",
    "\n",
    "n = 6\n",
    "print(fibonacci(n))"
   ]
  },
  {
   "cell_type": "code",
   "execution_count": 15,
   "metadata": {},
   "outputs": [],
   "source": [
    "##########[ Interview Preparation Kit - String ]##########"
   ]
  },
  {
   "cell_type": "code",
   "execution_count": 16,
   "metadata": {},
   "outputs": [
    {
     "name": "stdout",
     "output_type": "stream",
     "text": [
      "0\n"
     ]
    }
   ],
   "source": [
    "# String: Alternating Characters\n",
    "def alternatingCharacters(s):\n",
    "    p = 0\n",
    "    for i in range(len(s)-1):\n",
    "        if(s[i] == s[i+1]):\n",
    "            p = p + 1\n",
    "    return p\n",
    "\n",
    "x=\"ABABABAB\"\n",
    "print(alternatingCharacters(x))"
   ]
  },
  {
   "cell_type": "code",
   "execution_count": 17,
   "metadata": {},
   "outputs": [
    {
     "name": "stdout",
     "output_type": "stream",
     "text": [
      "NO\n",
      "0\n",
      "90\n"
     ]
    }
   ],
   "source": [
    "# String: Sherlock and the Valid String\n",
    "def isValid(s):\n",
    "    keys = ['a','b','c','d', 'e', 'f', 'g', 'h', 'i', 'j', 'k', 'l', 'm', 'n', 'o', 'p', 'q', 'r', 's', 't', 'u', 'v', 'w', 'x', 'y', 'z']\n",
    "    values = [0] * (len(keys))\n",
    "    d = dict(zip(keys, values))\n",
    "\n",
    "    for i in range(len(s)):\n",
    "        d[s[i]] = d[s[i]] + 1\n",
    "    \n",
    "    x = 0\n",
    "    for i in range(len(keys)):\n",
    "        if(i == 0):\n",
    "            x = d[keys[i]]\n",
    "        else:\n",
    "            if(d[keys[i]] != x and d[keys[i]]-1 != x):\n",
    "                return \"NO\"\n",
    "    return \"YES\"\n",
    "\n",
    "x = \"abbccc\"\n",
    "print(isValid(x))\n",
    "\n",
    "keys = ['a','b','c','d', 'e', 'f', 'g', 'h', 'i', 'j', 'k', 'l', 'm', 'n', 'o', 'p', 'q', 'r', 's', 't', 'u', 'v', 'w', 'x', 'y', 'z']\n",
    "values = [0] * (len(keys))\n",
    "d = dict(zip(keys, values))\n",
    "print(d['a'])\n",
    "d['a'] = d['a'] + 90\n",
    "print(d['a'])"
   ]
  },
  {
   "cell_type": "code",
   "execution_count": 18,
   "metadata": {},
   "outputs": [
    {
     "name": "stdout",
     "output_type": "stream",
     "text": [
      "NO\n"
     ]
    }
   ],
   "source": [
    "# String: Sherlock and the Valid String\n",
    "def isValid(s):\n",
    "    keys = ['a','b','c','d', 'e', 'f', 'g', 'h', 'i', 'j', 'k', 'l', 'm', 'n', 'o', 'p', 'q', 'r', 's', 't', 'u', 'v', 'w', 'x', 'y', 'z']\n",
    "    x = []\n",
    "    for i in range(len(keys)):\n",
    "        y = s.count(keys[i])\n",
    "        if(y > 0):\n",
    "            x.append(y)\n",
    "\n",
    "    moreOnes = False\n",
    "    c = x.count(1)\n",
    "    if(c > 1):\n",
    "        moreOnes = True\n",
    "    \n",
    "    morePass = False\n",
    "    a = x.count(x[0]+1)\n",
    "    if(a > 1):\n",
    "        morePass = True\n",
    "    \n",
    "    mop = False\n",
    "    if(a + c == 2):\n",
    "        mop = True\n",
    "    \n",
    "    for i in range(len(x)):\n",
    "        if(x[i] != x[0] and x[i]-1 != x[0]):\n",
    "            if(mop):\n",
    "                return \"NO\"\n",
    "            elif(moreOnes == True):\n",
    "                return \"NO\"\n",
    "            else:\n",
    "                if(x[i]-1 != 0):\n",
    "                    return \"NO\"\n",
    "    \n",
    "    return \"YES\"\n",
    "\n",
    "s = \"xxxaabbccrry\"\n",
    "print(isValid(s))"
   ]
  },
  {
   "cell_type": "code",
   "execution_count": 19,
   "metadata": {},
   "outputs": [],
   "source": [
    "# String: Making Anagrams\n",
    "def makeAnagram(a, b):\n",
    "    k = ['a','b','c','d', 'e', 'f', 'g', 'h', 'i', 'j', 'k', 'l', 'm', 'n', 'o', 'p', 'q', 'r', 's', 't', 'u', 'v', 'w', 'x', 'y', 'z']\n",
    "    ans = 0\n",
    "    for i in range(len(k)):\n",
    "        ans = ans + abs(a.count(k[i]) - b.count(k[i]))\n",
    "    return ans"
   ]
  },
  {
   "cell_type": "code",
   "execution_count": null,
   "metadata": {},
   "outputs": [],
   "source": []
  },
  {
   "cell_type": "code",
   "execution_count": null,
   "metadata": {},
   "outputs": [],
   "source": []
  },
  {
   "cell_type": "code",
   "execution_count": null,
   "metadata": {},
   "outputs": [],
   "source": []
  }
 ],
 "metadata": {
  "kernelspec": {
   "display_name": "Python 3",
   "language": "python",
   "name": "python3"
  },
  "language_info": {
   "codemirror_mode": {
    "name": "ipython",
    "version": 3
   },
   "file_extension": ".py",
   "mimetype": "text/x-python",
   "name": "python",
   "nbconvert_exporter": "python",
   "pygments_lexer": "ipython3",
   "version": "3.8.7"
  }
 },
 "nbformat": 4,
 "nbformat_minor": 4
}
